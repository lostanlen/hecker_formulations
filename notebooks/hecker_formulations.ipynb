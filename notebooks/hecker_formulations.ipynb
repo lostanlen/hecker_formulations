{
 "cells": [
  {
   "cell_type": "code",
   "execution_count": 52,
   "metadata": {
    "collapsed": false
   },
   "outputs": [],
   "source": [
    "import glob\n",
    "import os\n",
    "import numpy as np\n",
    "import pandas as pd\n"
   ]
  },
  {
   "cell_type": "code",
   "execution_count": 74,
   "metadata": {
    "collapsed": false
   },
   "outputs": [
    {
     "name": "stdout",
     "output_type": "stream",
     "text": [
      "78717 ppm\t 5654 Hz\n",
      " 5352 ppm\t 3562 Hz\t    1 Hz\n",
      " 1989 ppm\t 5654 Hz\t   31 Hz\n",
      "  376 ppm\t 5654 Hz\t  500 Hz\t 2.0 c/o\n",
      "  181 ppm\t 4487 Hz\t  125 Hz\t 2.0 c/o\n",
      "  122 ppm\t 6346 Hz\t  250 Hz\t 0.5 c/o\n",
      "   99 ppm\t 7996 Hz\t  250 Hz\t 0.5 c/o\n",
      "   88 ppm\t 7996 Hz\t  250 Hz\t-0.5 c/o\n",
      "   80 ppm\t 5037 Hz\t    0 Hz\t 1.0 c/o\n",
      "   73 ppm\t 3562 Hz\t    0 Hz\t-0.5 c/o\n",
      "   66 ppm\t 7996 Hz\t   31 Hz\t-1.0 c/o\n",
      "   61 ppm\t 8975 Hz\t  125 Hz\t 2.0 c/o\n",
      "   56 ppm\t 3998 Hz\t    8 Hz\t-1.0 c/o\n",
      "   52 ppm\t  793 Hz\t   16 Hz\t-0.5 c/o\n",
      "   49 ppm\t 7996 Hz\t    8 Hz\t 0.5 c/o\n",
      "   46 ppm\t  445 Hz\t   16 Hz\t 2.0 c/o\n",
      "   43 ppm\t 3998 Hz\t    4 Hz\t-2.0 c/o\n",
      "   40 ppm\t  315 Hz\t   16 Hz\t-0.5 c/o\n",
      "   36 ppm\t  630 Hz\t    1 Hz\t-0.5 c/o\n",
      "   34 ppm\t 1122 Hz\t    8 Hz\t 0.5 c/o\n"
     ]
    }
   ],
   "source": [
    "csv_folder = \"../csv\"\n",
    "csv_glob = os.path.join(csv_folder, \"*.csv\")\n",
    "csv_paths = glob.glob(csv_glob)\n",
    "\n",
    "text_folder = \"../text\"\n",
    "os.makedirs(text_folder, exist_ok=True)\n",
    "\n",
    "n_csvs = len(csv_paths)\n",
    "csv_id = 0\n",
    "#for csv_id in range(n_csvs):\n",
    "csv_path = csv_paths[csv_id]\n",
    "\n",
    "df = pd.read_csv(csv_path, header=None)\n",
    "n_rows = len(df)\n",
    "\n",
    "row_id = 0\n",
    "\n",
    "for row_id in range(0, 1000, 50):\n",
    "    row = df.iloc[row_id]\n",
    "    row_str = str(int(row[0])).rjust(5) + \" ppm\"\n",
    "    row_str = row_str + \"\\t\" + str(int(row[1])).rjust(5) + \" Hz\"\n",
    "    if not np.isnan(row[2]):\n",
    "        row_str = row_str + \"\\t\" + str(int(row[2])).rjust(5) + \" Hz\"\n",
    "    if not np.isnan(row[3]):\n",
    "        if row[3] < 0:\n",
    "            sign_str = \"-\"\n",
    "        else:\n",
    "            sign_str = \" \"\n",
    "        row_str = row_str + \"\\t\" + sign_str + \"{:.1f}\".format(np.abs(row[3])) + \" c/o\"\n",
    "    print(row_str)"
   ]
  },
  {
   "cell_type": "code",
   "execution_count": 72,
   "metadata": {
    "collapsed": false
   },
   "outputs": [
    {
     "data": {
      "text/plain": [
       "'0.5 c/o'"
      ]
     },
     "execution_count": 72,
     "metadata": {},
     "output_type": "execute_result"
    }
   ],
   "source": []
  },
  {
   "cell_type": "code",
   "execution_count": 71,
   "metadata": {
    "collapsed": false
   },
   "outputs": [
    {
     "data": {
      "text/plain": [
       "'-4.0 c/o'"
      ]
     },
     "execution_count": 71,
     "metadata": {},
     "output_type": "execute_result"
    }
   ],
   "source": [
    "\"{:.1f}\".format(4) + \" c/o\""
   ]
  },
  {
   "cell_type": "code",
   "execution_count": null,
   "metadata": {
    "collapsed": true
   },
   "outputs": [],
   "source": []
  }
 ],
 "metadata": {
  "kernelspec": {
   "display_name": "Python 3",
   "language": "python",
   "name": "python3"
  },
  "language_info": {
   "codemirror_mode": {
    "name": "ipython",
    "version": 3
   },
   "file_extension": ".py",
   "mimetype": "text/x-python",
   "name": "python",
   "nbconvert_exporter": "python",
   "pygments_lexer": "ipython3",
   "version": "3.5.2"
  }
 },
 "nbformat": 4,
 "nbformat_minor": 2
}
